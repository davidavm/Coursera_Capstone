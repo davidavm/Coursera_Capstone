{
    "cells": [
        {
            "metadata": {
                "collapsed": true
            },
            "cell_type": "markdown",
            "source": "<h2>Introduccion</h2>"
        },
        {
            "metadata": {},
            "cell_type": "markdown",
            "source": "Ha habido un impacto definitivo del brote de COVID-19 en el negocio de servicio de alimentos en general, con varios segmentos afectados en diversos grados en Canad\u00e1.\nLos operadores de servicios de alimentos y los proveedores de servicios de catering est\u00e1n en la primera l\u00ednea de la creciente inflaci\u00f3n.\nSe espera que el mercado de servicio de alimentos de Canad\u00e1 registre una CAGR de 4.55% durante el per\u00edodo de pron\u00f3stico (2021 - 2026).\nEl negocio de servicio de alimentos canadiense est\u00e1 en constante crecimiento debido a la econom\u00eda de Canad\u00e1, que est\u00e1 operando a plena capacidad"
        },
        {
            "metadata": {},
            "cell_type": "markdown",
            "source": "<h2>Definicion del Problema</h2>"
        },
        {
            "metadata": {},
            "cell_type": "markdown",
            "source": "Debido a que Toronto es la ciudad mas poblada de Canada y al pronostico(2021 - 2026) de crecimiento del CAGR de 4.55% en el mercado de servicio de alimentos, un grupo de inversionistas desea invertir en una franquicia global importante dentro del segmento de las pizzerias y \ndesea realizar un estudio de la ciudad de Toronto para analizar los negocios existentes ."
        }
    ],
    "metadata": {
        "kernelspec": {
            "name": "python3",
            "display_name": "Python 3.10",
            "language": "python"
        },
        "language_info": {
            "name": "python",
            "version": "3.10.9",
            "mimetype": "text/x-python",
            "codemirror_mode": {
                "name": "ipython",
                "version": 3
            },
            "pygments_lexer": "ipython3",
            "nbconvert_exporter": "python",
            "file_extension": ".py"
        }
    },
    "nbformat": 4,
    "nbformat_minor": 1
}