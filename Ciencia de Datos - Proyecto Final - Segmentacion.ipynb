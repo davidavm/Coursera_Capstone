{
    "cells": [
        {
            "cell_type": "markdown",
            "metadata": {
                "collapsed": true
            },
            "source": "<h1>Agrupaci\u00f3n y Segmentaci\u00f3n de Vecindarios en la Ciudad de Toronto, canada </h1>"
        },
        {
            "cell_type": "markdown",
            "metadata": {},
            "source": "Para esta tarea, se le pedir\u00e1 que explore y agrupe los vecindarios en Toronto.\n1. Empiece por crear un nuevo Notebook para esta tarea."
        },
        {
            "cell_type": "code",
            "execution_count": 4,
            "metadata": {},
            "outputs": [
                {
                    "name": "stdout",
                    "output_type": "stream",
                    "text": "Requirement already satisfied: geopy in /opt/conda/envs/Python-3.10/lib/python3.10/site-packages (2.3.0)\nRequirement already satisfied: geographiclib<3,>=1.52 in /opt/conda/envs/Python-3.10/lib/python3.10/site-packages (from geopy) (2.0)\nRequirement already satisfied: folium==0.5.0 in /opt/conda/envs/Python-3.10/lib/python3.10/site-packages (0.5.0)\nRequirement already satisfied: six in /opt/conda/envs/Python-3.10/lib/python3.10/site-packages (from folium==0.5.0) (1.16.0)\nRequirement already satisfied: jinja2 in /opt/conda/envs/Python-3.10/lib/python3.10/site-packages (from folium==0.5.0) (3.0.3)\nRequirement already satisfied: requests in /opt/conda/envs/Python-3.10/lib/python3.10/site-packages (from folium==0.5.0) (2.28.1)\nRequirement already satisfied: branca in /opt/conda/envs/Python-3.10/lib/python3.10/site-packages (from folium==0.5.0) (0.6.0)\nRequirement already satisfied: MarkupSafe>=2.0 in /opt/conda/envs/Python-3.10/lib/python3.10/site-packages (from jinja2->folium==0.5.0) (2.1.1)\nRequirement already satisfied: certifi>=2017.4.17 in /opt/conda/envs/Python-3.10/lib/python3.10/site-packages (from requests->folium==0.5.0) (2022.12.7)\nRequirement already satisfied: urllib3<1.27,>=1.21.1 in /opt/conda/envs/Python-3.10/lib/python3.10/site-packages (from requests->folium==0.5.0) (1.26.11)\nRequirement already satisfied: idna<4,>=2.5 in /opt/conda/envs/Python-3.10/lib/python3.10/site-packages (from requests->folium==0.5.0) (3.3)\nRequirement already satisfied: charset-normalizer<3,>=2 in /opt/conda/envs/Python-3.10/lib/python3.10/site-packages (from requests->folium==0.5.0) (2.0.4)\nFolium installed\nLibraries imported.\n"
                }
            ],
            "source": "import requests # librer\u00eda para manejar las solicitudes\nimport pandas as pd # librer\u00eda para an\u00e1lisis de datos\nimport numpy as np # librer\u00eda para manejar datos vectorizados\nimport random # librer\u00eda para generar n\u00fameros aleatorios\nfrom bs4 import BeautifulSoup\n\n!pip install geopy\nfrom geopy.geocoders import Nominatim # m\u00f3dulo para convertir una direcci\u00f3n en valores de latitud y longitud \n\n# librer\u00edas para mostrar im\u00e1genes \nfrom IPython.display import Image \nfrom IPython.core.display import HTML \n    \n# librer\u00eda para convertir un archivo json en un dataframe pandas\nfrom pandas.io.json import json_normalize\n\n\n! pip install folium==0.5.0\nimport folium # librer\u00eda para graficar \n\nprint('Folium installed')\nprint('Libraries imported.')"
        },
        {
            "cell_type": "markdown",
            "metadata": {},
            "source": "Utilizando la libreria BeautifulSoup extraemos el codigo html de la pagina:, https://en.wikipedia.org/wiki/List_of_postal_codes_of_Canada:_M, y luego obtenemos obtenemos el codigo html de la tabla de datos para nuestro dataset"
        },
        {
            "cell_type": "code",
            "execution_count": 5,
            "metadata": {},
            "outputs": [],
            "source": "#Importando datos html de wikipedia y extrayendo la tabla\nURL = \"https://en.wikipedia.org/wiki/List_of_postal_codes_of_Canada:_M\"\npage = requests.get(URL)\nsoup = BeautifulSoup(page.content, \"html\")\ntable = soup.table"
        },
        {
            "cell_type": "markdown",
            "metadata": {},
            "source": "Recorriendo el codigo de la tabla obtenemos el texto de las celdas que contienen los datos de los municipios"
        },
        {
            "cell_type": "code",
            "execution_count": 6,
            "metadata": {},
            "outputs": [
                {
                    "data": {
                        "text/html": "<div>\n<style scoped>\n    .dataframe tbody tr th:only-of-type {\n        vertical-align: middle;\n    }\n\n    .dataframe tbody tr th {\n        vertical-align: top;\n    }\n\n    .dataframe thead th {\n        text-align: right;\n    }\n</style>\n<table border=\"1\" class=\"dataframe\">\n  <thead>\n    <tr style=\"text-align: right;\">\n      <th></th>\n      <th>0</th>\n    </tr>\n  </thead>\n  <tbody>\n    <tr>\n      <th>0</th>\n      <td>M1ANot assigned\\n</td>\n    </tr>\n    <tr>\n      <th>1</th>\n      <td>M1BScarborough(Malvern / Rouge)\\n</td>\n    </tr>\n    <tr>\n      <th>2</th>\n      <td>M1CScarborough(Rouge Hill / Port Union / Highl...</td>\n    </tr>\n    <tr>\n      <th>3</th>\n      <td>M1EScarborough(Guildwood / Morningside / West ...</td>\n    </tr>\n    <tr>\n      <th>4</th>\n      <td>M1GScarborough(Woburn)\\n</td>\n    </tr>\n  </tbody>\n</table>\n</div>",
                        "text/plain": "                                                   0\n0                                  M1ANot assigned\\n\n1                  M1BScarborough(Malvern / Rouge)\\n\n2  M1CScarborough(Rouge Hill / Port Union / Highl...\n3  M1EScarborough(Guildwood / Morningside / West ...\n4                           M1GScarborough(Woburn)\\n"
                    },
                    "execution_count": 6,
                    "metadata": {},
                    "output_type": "execute_result"
                }
            ],
            "source": "#Recorriendo el  codigo de la tabla obtenemos el texto de las celdas que contienen los datos de los municipios\nfile=[]\nncol=list(range(0,9))\n\nfor i in ncol :\n    \n    for row in table.find_all('tr'): # in html table row is represented by the table\n    # Get all columns in each row.\n        cols = row.find_all('p') # in html a column is represented by the tag td or p\n        file.append(cols[i].getText())\n\n    # convert to dataframe:\ndf= pd.DataFrame(file)\ndf.head()"
        },
        {
            "cell_type": "markdown",
            "metadata": {},
            "source": "Mediante funciones de cadenas separamos los datos de las 3 columnas y limpiamos los datos con las condiciones solicitadas:"
        },
        {
            "cell_type": "code",
            "execution_count": 7,
            "metadata": {},
            "outputs": [
                {
                    "data": {
                        "text/html": "<div>\n<style scoped>\n    .dataframe tbody tr th:only-of-type {\n        vertical-align: middle;\n    }\n\n    .dataframe tbody tr th {\n        vertical-align: top;\n    }\n\n    .dataframe thead th {\n        text-align: right;\n    }\n</style>\n<table border=\"1\" class=\"dataframe\">\n  <thead>\n    <tr style=\"text-align: right;\">\n      <th></th>\n      <th>Postal Code</th>\n      <th>Borough</th>\n      <th>Neighbourhood</th>\n    </tr>\n  </thead>\n  <tbody>\n    <tr>\n      <th>1</th>\n      <td>M1B</td>\n      <td>Scarborough</td>\n      <td>Malvern,Rouge</td>\n    </tr>\n    <tr>\n      <th>2</th>\n      <td>M1C</td>\n      <td>Scarborough</td>\n      <td>Rouge Hill,Port Union,Highland Creek</td>\n    </tr>\n    <tr>\n      <th>3</th>\n      <td>M1E</td>\n      <td>Scarborough</td>\n      <td>Guildwood,Morningside,West Hill</td>\n    </tr>\n    <tr>\n      <th>4</th>\n      <td>M1G</td>\n      <td>Scarborough</td>\n      <td>Woburn</td>\n    </tr>\n    <tr>\n      <th>5</th>\n      <td>M1H</td>\n      <td>Scarborough</td>\n      <td>Cedarbrae</td>\n    </tr>\n  </tbody>\n</table>\n</div>",
                        "text/plain": "  Postal Code      Borough                         Neighbourhood\n1         M1B  Scarborough                         Malvern,Rouge\n2         M1C  Scarborough  Rouge Hill,Port Union,Highland Creek\n3         M1E  Scarborough       Guildwood,Morningside,West Hill\n4         M1G  Scarborough                                Woburn\n5         M1H  Scarborough                             Cedarbrae"
                    },
                    "execution_count": 7,
                    "metadata": {},
                    "output_type": "execute_result"
                }
            ],
            "source": "df[\"Postal Code\"]=df[0].str[0:3]\ndf[\"Borough\"]=df[0].str[3:].str.split(\"(\",n=1,expand=True)[0]\ndf[\"Neigh\"]=df[0].str.rsplit(\"(\",n=2,expand=True)[1].str.split(\")\",n=1,expand=True)[0]\ndf[\"Neighbourhood\"]=df[\"Neigh\"].str.replace(\" / \",\",\")\npostalcode_list=df[(df[\"Borough\"]!=\"Not assigned\\n\")]\npostalcode_list=postalcode_list.drop([0,\"Neigh\"],axis=1)\npostalcode_list.head()"
        },
        {
            "cell_type": "code",
            "execution_count": null,
            "metadata": {},
            "outputs": [],
            "source": ""
        }
    ],
    "metadata": {
        "kernelspec": {
            "display_name": "Python 3.10",
            "language": "python",
            "name": "python3"
        },
        "language_info": {
            "codemirror_mode": {
                "name": "ipython",
                "version": 3
            },
            "file_extension": ".py",
            "mimetype": "text/x-python",
            "name": "python",
            "nbconvert_exporter": "python",
            "pygments_lexer": "ipython3",
            "version": "3.10.9"
        }
    },
    "nbformat": 4,
    "nbformat_minor": 1
}