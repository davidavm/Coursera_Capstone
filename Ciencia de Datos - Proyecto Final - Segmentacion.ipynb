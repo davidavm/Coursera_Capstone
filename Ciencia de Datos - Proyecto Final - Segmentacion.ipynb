{
    "cells": [
        {
            "cell_type": "markdown",
            "metadata": {
                "collapsed": true
            },
            "source": "<h1>Agrupaci\u00f3n y Segmentaci\u00f3n de Vecindarios en la Ciudad de Toronto, canada </h1>"
        },
        {
            "cell_type": "code",
            "execution_count": null,
            "metadata": {},
            "outputs": [],
            "source": "Para esta tarea, se le pedir\u00e1 que explore y agrupe los vecindarios en Toronto."
        },
        {
            "cell_type": "code",
            "execution_count": 1,
            "metadata": {},
            "outputs": [
                {
                    "name": "stdout",
                    "output_type": "stream",
                    "text": "Requirement already satisfied: geopy in /opt/conda/envs/Python-3.10/lib/python3.10/site-packages (2.3.0)\nRequirement already satisfied: geographiclib<3,>=1.52 in /opt/conda/envs/Python-3.10/lib/python3.10/site-packages (from geopy) (2.0)\nRequirement already satisfied: folium==0.5.0 in /opt/conda/envs/Python-3.10/lib/python3.10/site-packages (0.5.0)\nRequirement already satisfied: six in /opt/conda/envs/Python-3.10/lib/python3.10/site-packages (from folium==0.5.0) (1.16.0)\nRequirement already satisfied: branca in /opt/conda/envs/Python-3.10/lib/python3.10/site-packages (from folium==0.5.0) (0.6.0)\nRequirement already satisfied: requests in /opt/conda/envs/Python-3.10/lib/python3.10/site-packages (from folium==0.5.0) (2.28.1)\nRequirement already satisfied: jinja2 in /opt/conda/envs/Python-3.10/lib/python3.10/site-packages (from folium==0.5.0) (3.0.3)\nRequirement already satisfied: MarkupSafe>=2.0 in /opt/conda/envs/Python-3.10/lib/python3.10/site-packages (from jinja2->folium==0.5.0) (2.1.1)\nRequirement already satisfied: idna<4,>=2.5 in /opt/conda/envs/Python-3.10/lib/python3.10/site-packages (from requests->folium==0.5.0) (3.3)\nRequirement already satisfied: urllib3<1.27,>=1.21.1 in /opt/conda/envs/Python-3.10/lib/python3.10/site-packages (from requests->folium==0.5.0) (1.26.11)\nRequirement already satisfied: certifi>=2017.4.17 in /opt/conda/envs/Python-3.10/lib/python3.10/site-packages (from requests->folium==0.5.0) (2022.12.7)\nRequirement already satisfied: charset-normalizer<3,>=2 in /opt/conda/envs/Python-3.10/lib/python3.10/site-packages (from requests->folium==0.5.0) (2.0.4)\nFolium installed\nLibraries imported.\n"
                }
            ],
            "source": "# Importando librerias necesarias\n!pip install geopy\nfrom geopy.geocoders import Nominatim # m\u00f3dulo para convertir una direcci\u00f3n en valores de latitud y longitud \n\n# librer\u00edas para mostrar im\u00e1genes \nfrom IPython.display import Image \nfrom IPython.core.display import HTML \n    \n# librer\u00eda para convertir un archivo json en un dataframe pandas\nfrom pandas.io.json import json_normalize\n\n\n! pip install folium==0.5.0\nimport folium # librer\u00eda para graficar \n\nprint('Folium installed')\nprint('Libraries imported.')"
        },
        {
            "cell_type": "code",
            "execution_count": null,
            "metadata": {},
            "outputs": [],
            "source": ""
        },
        {
            "cell_type": "code",
            "execution_count": null,
            "metadata": {},
            "outputs": [],
            "source": ""
        }
    ],
    "metadata": {
        "kernelspec": {
            "display_name": "Python 3.10",
            "language": "python",
            "name": "python3"
        },
        "language_info": {
            "codemirror_mode": {
                "name": "ipython",
                "version": 3
            },
            "file_extension": ".py",
            "mimetype": "text/x-python",
            "name": "python",
            "nbconvert_exporter": "python",
            "pygments_lexer": "ipython3",
            "version": "3.10.9"
        }
    },
    "nbformat": 4,
    "nbformat_minor": 1
}